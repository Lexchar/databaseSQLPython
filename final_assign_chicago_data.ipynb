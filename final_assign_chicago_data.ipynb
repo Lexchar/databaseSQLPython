{
 "cells": [
  {
   "cell_type": "markdown",
   "id": "9d6d9a64-9e4b-48a8-ba09-a4bd15079d4c",
   "metadata": {},
   "source": [
    "# Final assignement: Databases and SQL for Data Science with Python\n",
    "## Import of libraries and database connection\n",
    "#### NB: I can't use cloud database on my computer so i will use sqlite3 on a local database"
   ]
  },
  {
   "cell_type": "code",
   "execution_count": 1,
   "id": "276450f9-d41c-40bb-9df9-7f702309751a",
   "metadata": {},
   "outputs": [],
   "source": [
    "import sqlite3\n",
    "import pandas as pd\n",
    "conn = sqlite3.connect('database.db')"
   ]
  },
  {
   "cell_type": "markdown",
   "id": "7f1d59b2-7970-483f-a6a9-460ea11ac60f",
   "metadata": {},
   "source": [
    "## Question 1: Find the total number of crimes recorded in the CRIME table"
   ]
  },
  {
   "cell_type": "code",
   "execution_count": 36,
   "id": "d40f4608-db24-48dd-b073-1dd18d483b41",
   "metadata": {},
   "outputs": [
    {
     "data": {
      "text/html": [
       "<div>\n",
       "<style scoped>\n",
       "    .dataframe tbody tr th:only-of-type {\n",
       "        vertical-align: middle;\n",
       "    }\n",
       "\n",
       "    .dataframe tbody tr th {\n",
       "        vertical-align: top;\n",
       "    }\n",
       "\n",
       "    .dataframe thead th {\n",
       "        text-align: right;\n",
       "    }\n",
       "</style>\n",
       "<table border=\"1\" class=\"dataframe\">\n",
       "  <thead>\n",
       "    <tr style=\"text-align: right;\">\n",
       "      <th></th>\n",
       "      <th>Total number of crimes</th>\n",
       "    </tr>\n",
       "  </thead>\n",
       "  <tbody>\n",
       "    <tr>\n",
       "      <th>0</th>\n",
       "      <td>7689884</td>\n",
       "    </tr>\n",
       "  </tbody>\n",
       "</table>\n",
       "</div>"
      ],
      "text/plain": [
       "   Total number of crimes\n",
       "0                 7689884"
      ]
     },
     "execution_count": 36,
     "metadata": {},
     "output_type": "execute_result"
    }
   ],
   "source": [
    "df = pd.read_sql_query(\"select count(*) as 'Total number of crimes' from Crimes\", conn)\n",
    "df"
   ]
  },
  {
   "cell_type": "markdown",
   "id": "5448b4e2-827b-4bcf-8a9a-2b571b77a5ed",
   "metadata": {},
   "source": [
    "## Question 2: List community areas with per capita income less than 11000"
   ]
  },
  {
   "cell_type": "code",
   "execution_count": 37,
   "id": "45731311-533d-4ccd-8d5c-1b8cf3b8b40f",
   "metadata": {},
   "outputs": [
    {
     "data": {
      "text/html": [
       "<div>\n",
       "<style scoped>\n",
       "    .dataframe tbody tr th:only-of-type {\n",
       "        vertical-align: middle;\n",
       "    }\n",
       "\n",
       "    .dataframe tbody tr th {\n",
       "        vertical-align: top;\n",
       "    }\n",
       "\n",
       "    .dataframe thead th {\n",
       "        text-align: right;\n",
       "    }\n",
       "</style>\n",
       "<table border=\"1\" class=\"dataframe\">\n",
       "  <thead>\n",
       "    <tr style=\"text-align: right;\">\n",
       "      <th></th>\n",
       "      <th>List community areas with per capita income</th>\n",
       "    </tr>\n",
       "  </thead>\n",
       "  <tbody>\n",
       "    <tr>\n",
       "      <th>0</th>\n",
       "      <td>West Garfield Park</td>\n",
       "    </tr>\n",
       "    <tr>\n",
       "      <th>1</th>\n",
       "      <td>South Lawndale</td>\n",
       "    </tr>\n",
       "    <tr>\n",
       "      <th>2</th>\n",
       "      <td>Fuller Park</td>\n",
       "    </tr>\n",
       "    <tr>\n",
       "      <th>3</th>\n",
       "      <td>Riverdale</td>\n",
       "    </tr>\n",
       "  </tbody>\n",
       "</table>\n",
       "</div>"
      ],
      "text/plain": [
       "  List community areas with per capita income\n",
       "0                          West Garfield Park\n",
       "1                              South Lawndale\n",
       "2                                 Fuller Park\n",
       "3                                   Riverdale"
      ]
     },
     "execution_count": 37,
     "metadata": {},
     "output_type": "execute_result"
    }
   ],
   "source": [
    "df = pd.read_sql_query(\"select CommunityAreaName as 'List community areas with per capita income' from Census_Data where PERCAPITAINCOME < 11000\", conn)\n",
    "df"
   ]
  },
  {
   "cell_type": "markdown",
   "id": "620ada51-fdc1-4a83-8981-a7ef3cf0e3c4",
   "metadata": {},
   "source": [
    "## Question 3: List all case numbers for crimes  involving minors?(children are not considered minors for the purposes of crime analysis)"
   ]
  },
  {
   "cell_type": "code",
   "execution_count": 39,
   "id": "3c11e2e0-9538-4156-8d65-7b4644b59a0d",
   "metadata": {},
   "outputs": [
    {
     "data": {
      "text/html": [
       "<div>\n",
       "<style scoped>\n",
       "    .dataframe tbody tr th:only-of-type {\n",
       "        vertical-align: middle;\n",
       "    }\n",
       "\n",
       "    .dataframe tbody tr th {\n",
       "        vertical-align: top;\n",
       "    }\n",
       "\n",
       "    .dataframe thead th {\n",
       "        text-align: right;\n",
       "    }\n",
       "</style>\n",
       "<table border=\"1\" class=\"dataframe\">\n",
       "  <thead>\n",
       "    <tr style=\"text-align: right;\">\n",
       "      <th></th>\n",
       "      <th>Crime</th>\n",
       "      <th>Numbers</th>\n",
       "    </tr>\n",
       "  </thead>\n",
       "  <tbody>\n",
       "    <tr>\n",
       "      <th>0</th>\n",
       "      <td>ILLEGAL CONSUMPTION BY MINOR</td>\n",
       "      <td>4671</td>\n",
       "    </tr>\n",
       "    <tr>\n",
       "      <th>1</th>\n",
       "      <td>ILLEGAL POSSESSION BY MINOR</td>\n",
       "      <td>3230</td>\n",
       "    </tr>\n",
       "    <tr>\n",
       "      <th>2</th>\n",
       "      <td>SALE / DISTRIBUTE OBSCENE MATERIAL TO MINOR</td>\n",
       "      <td>38</td>\n",
       "    </tr>\n",
       "    <tr>\n",
       "      <th>3</th>\n",
       "      <td>SALE OF TOBACCO PRODUCTS TO MINOR</td>\n",
       "      <td>3</td>\n",
       "    </tr>\n",
       "    <tr>\n",
       "      <th>4</th>\n",
       "      <td>SALE TOBACCO PRODUCTS TO MINOR</td>\n",
       "      <td>30</td>\n",
       "    </tr>\n",
       "    <tr>\n",
       "      <th>5</th>\n",
       "      <td>SALE/DIST OBSCENE MAT TO MINOR</td>\n",
       "      <td>140</td>\n",
       "    </tr>\n",
       "    <tr>\n",
       "      <th>6</th>\n",
       "      <td>SELL / GIVE / DELIVER LIQUOR TO MINOR</td>\n",
       "      <td>46</td>\n",
       "    </tr>\n",
       "    <tr>\n",
       "      <th>7</th>\n",
       "      <td>SELL/GIVE/DEL LIQUOR TO MINOR</td>\n",
       "      <td>3196</td>\n",
       "    </tr>\n",
       "  </tbody>\n",
       "</table>\n",
       "</div>"
      ],
      "text/plain": [
       "                                         Crime  Numbers\n",
       "0                 ILLEGAL CONSUMPTION BY MINOR     4671\n",
       "1                  ILLEGAL POSSESSION BY MINOR     3230\n",
       "2  SALE / DISTRIBUTE OBSCENE MATERIAL TO MINOR       38\n",
       "3            SALE OF TOBACCO PRODUCTS TO MINOR        3\n",
       "4               SALE TOBACCO PRODUCTS TO MINOR       30\n",
       "5               SALE/DIST OBSCENE MAT TO MINOR      140\n",
       "6        SELL / GIVE / DELIVER LIQUOR TO MINOR       46\n",
       "7                SELL/GIVE/DEL LIQUOR TO MINOR     3196"
      ]
     },
     "execution_count": 39,
     "metadata": {},
     "output_type": "execute_result"
    }
   ],
   "source": [
    "df = pd.read_sql_query(\"select Description as 'Crime', count(*) as 'Numbers' from Crimes where Description like '%BY MINOR%' or  Description like '%TO MINOR%' group by Description;\", conn)\n",
    "df"
   ]
  },
  {
   "cell_type": "markdown",
   "id": "fe3133d0-e15a-463a-bfac-3017086c03a7",
   "metadata": {},
   "source": [
    "## Question 4: List all kidnapping crimes involving a child?"
   ]
  },
  {
   "cell_type": "code",
   "execution_count": 40,
   "id": "091637ed-3422-44bd-9b09-12b815126e67",
   "metadata": {},
   "outputs": [
    {
     "data": {
      "text/html": [
       "<div>\n",
       "<style scoped>\n",
       "    .dataframe tbody tr th:only-of-type {\n",
       "        vertical-align: middle;\n",
       "    }\n",
       "\n",
       "    .dataframe tbody tr th {\n",
       "        vertical-align: top;\n",
       "    }\n",
       "\n",
       "    .dataframe thead th {\n",
       "        text-align: right;\n",
       "    }\n",
       "</style>\n",
       "<table border=\"1\" class=\"dataframe\">\n",
       "  <thead>\n",
       "    <tr style=\"text-align: right;\">\n",
       "      <th></th>\n",
       "      <th>Crime</th>\n",
       "      <th>Description</th>\n",
       "      <th>Numbers</th>\n",
       "    </tr>\n",
       "  </thead>\n",
       "  <tbody>\n",
       "    <tr>\n",
       "      <th>0</th>\n",
       "      <td>KIDNAPPING</td>\n",
       "      <td>CHILD ABDUCTION / STRANGER</td>\n",
       "      <td>76</td>\n",
       "    </tr>\n",
       "    <tr>\n",
       "      <th>1</th>\n",
       "      <td>KIDNAPPING</td>\n",
       "      <td>CHILD ABDUCTION/STRANGER</td>\n",
       "      <td>2461</td>\n",
       "    </tr>\n",
       "  </tbody>\n",
       "</table>\n",
       "</div>"
      ],
      "text/plain": [
       "        Crime                 Description  Numbers\n",
       "0  KIDNAPPING  CHILD ABDUCTION / STRANGER       76\n",
       "1  KIDNAPPING    CHILD ABDUCTION/STRANGER     2461"
      ]
     },
     "execution_count": 40,
     "metadata": {},
     "output_type": "execute_result"
    }
   ],
   "source": [
    "df = pd.read_sql_query(\"select PrimaryType as 'Crime', Description as 'Description', count(*) as 'Numbers' from Crimes where Description like '%child%' and PrimaryType like '%kidnapping' group by Description;\", conn)\n",
    "df"
   ]
  },
  {
   "cell_type": "markdown",
   "id": "44605c81-abe0-4d29-a23a-59131b168cce",
   "metadata": {},
   "source": [
    "### Question 5: What kind of crimes were recorded at schools?"
   ]
  },
  {
   "cell_type": "code",
   "execution_count": 34,
   "id": "e85e8d0e-6dbe-4ed8-8321-34d764680db0",
   "metadata": {},
   "outputs": [
    {
     "data": {
      "text/html": [
       "<div>\n",
       "<style scoped>\n",
       "    .dataframe tbody tr th:only-of-type {\n",
       "        vertical-align: middle;\n",
       "    }\n",
       "\n",
       "    .dataframe tbody tr th {\n",
       "        vertical-align: top;\n",
       "    }\n",
       "\n",
       "    .dataframe thead th {\n",
       "        text-align: right;\n",
       "    }\n",
       "</style>\n",
       "<table border=\"1\" class=\"dataframe\">\n",
       "  <thead>\n",
       "    <tr style=\"text-align: right;\">\n",
       "      <th></th>\n",
       "      <th>Crime</th>\n",
       "      <th>Numbers</th>\n",
       "    </tr>\n",
       "  </thead>\n",
       "  <tbody>\n",
       "    <tr>\n",
       "      <th>0</th>\n",
       "      <td>ARSON</td>\n",
       "      <td>276</td>\n",
       "    </tr>\n",
       "    <tr>\n",
       "      <th>1</th>\n",
       "      <td>ASSAULT</td>\n",
       "      <td>32890</td>\n",
       "    </tr>\n",
       "    <tr>\n",
       "      <th>2</th>\n",
       "      <td>BATTERY</td>\n",
       "      <td>68855</td>\n",
       "    </tr>\n",
       "    <tr>\n",
       "      <th>3</th>\n",
       "      <td>BURGLARY</td>\n",
       "      <td>3312</td>\n",
       "    </tr>\n",
       "    <tr>\n",
       "      <th>4</th>\n",
       "      <td>CONCEALED CARRY LICENSE VIOLATION</td>\n",
       "      <td>6</td>\n",
       "    </tr>\n",
       "    <tr>\n",
       "      <th>5</th>\n",
       "      <td>CRIM SEXUAL ASSAULT</td>\n",
       "      <td>450</td>\n",
       "    </tr>\n",
       "    <tr>\n",
       "      <th>6</th>\n",
       "      <td>CRIMINAL DAMAGE</td>\n",
       "      <td>14158</td>\n",
       "    </tr>\n",
       "    <tr>\n",
       "      <th>7</th>\n",
       "      <td>CRIMINAL SEXUAL ASSAULT</td>\n",
       "      <td>98</td>\n",
       "    </tr>\n",
       "    <tr>\n",
       "      <th>8</th>\n",
       "      <td>CRIMINAL TRESPASS</td>\n",
       "      <td>8059</td>\n",
       "    </tr>\n",
       "    <tr>\n",
       "      <th>9</th>\n",
       "      <td>DECEPTIVE PRACTICE</td>\n",
       "      <td>1488</td>\n",
       "    </tr>\n",
       "    <tr>\n",
       "      <th>10</th>\n",
       "      <td>GAMBLING</td>\n",
       "      <td>232</td>\n",
       "    </tr>\n",
       "    <tr>\n",
       "      <th>11</th>\n",
       "      <td>HOMICIDE</td>\n",
       "      <td>17</td>\n",
       "    </tr>\n",
       "    <tr>\n",
       "      <th>12</th>\n",
       "      <td>HUMAN TRAFFICKING</td>\n",
       "      <td>1</td>\n",
       "    </tr>\n",
       "    <tr>\n",
       "      <th>13</th>\n",
       "      <td>INTERFERENCE WITH PUBLIC OFFICER</td>\n",
       "      <td>110</td>\n",
       "    </tr>\n",
       "    <tr>\n",
       "      <th>14</th>\n",
       "      <td>INTIMIDATION</td>\n",
       "      <td>254</td>\n",
       "    </tr>\n",
       "    <tr>\n",
       "      <th>15</th>\n",
       "      <td>KIDNAPPING</td>\n",
       "      <td>219</td>\n",
       "    </tr>\n",
       "    <tr>\n",
       "      <th>16</th>\n",
       "      <td>LIQUOR LAW VIOLATION</td>\n",
       "      <td>422</td>\n",
       "    </tr>\n",
       "    <tr>\n",
       "      <th>17</th>\n",
       "      <td>MOTOR VEHICLE THEFT</td>\n",
       "      <td>671</td>\n",
       "    </tr>\n",
       "    <tr>\n",
       "      <th>18</th>\n",
       "      <td>NARCOTICS</td>\n",
       "      <td>12452</td>\n",
       "    </tr>\n",
       "    <tr>\n",
       "      <th>19</th>\n",
       "      <td>OBSCENITY</td>\n",
       "      <td>97</td>\n",
       "    </tr>\n",
       "    <tr>\n",
       "      <th>20</th>\n",
       "      <td>OFFENSE INVOLVING CHILDREN</td>\n",
       "      <td>1621</td>\n",
       "    </tr>\n",
       "    <tr>\n",
       "      <th>21</th>\n",
       "      <td>OTHER NARCOTIC VIOLATION</td>\n",
       "      <td>18</td>\n",
       "    </tr>\n",
       "    <tr>\n",
       "      <th>22</th>\n",
       "      <td>OTHER OFFENSE</td>\n",
       "      <td>4837</td>\n",
       "    </tr>\n",
       "    <tr>\n",
       "      <th>23</th>\n",
       "      <td>PROSTITUTION</td>\n",
       "      <td>15</td>\n",
       "    </tr>\n",
       "    <tr>\n",
       "      <th>24</th>\n",
       "      <td>PUBLIC INDECENCY</td>\n",
       "      <td>8</td>\n",
       "    </tr>\n",
       "    <tr>\n",
       "      <th>25</th>\n",
       "      <td>PUBLIC PEACE VIOLATION</td>\n",
       "      <td>5637</td>\n",
       "    </tr>\n",
       "    <tr>\n",
       "      <th>26</th>\n",
       "      <td>RITUALISM</td>\n",
       "      <td>3</td>\n",
       "    </tr>\n",
       "    <tr>\n",
       "      <th>27</th>\n",
       "      <td>ROBBERY</td>\n",
       "      <td>1754</td>\n",
       "    </tr>\n",
       "    <tr>\n",
       "      <th>28</th>\n",
       "      <td>SEX OFFENSE</td>\n",
       "      <td>1920</td>\n",
       "    </tr>\n",
       "    <tr>\n",
       "      <th>29</th>\n",
       "      <td>STALKING</td>\n",
       "      <td>114</td>\n",
       "    </tr>\n",
       "    <tr>\n",
       "      <th>30</th>\n",
       "      <td>THEFT</td>\n",
       "      <td>35985</td>\n",
       "    </tr>\n",
       "    <tr>\n",
       "      <th>31</th>\n",
       "      <td>WEAPONS VIOLATION</td>\n",
       "      <td>5570</td>\n",
       "    </tr>\n",
       "  </tbody>\n",
       "</table>\n",
       "</div>"
      ],
      "text/plain": [
       "                                Crime  Numbers\n",
       "0                               ARSON      276\n",
       "1                             ASSAULT    32890\n",
       "2                             BATTERY    68855\n",
       "3                            BURGLARY     3312\n",
       "4   CONCEALED CARRY LICENSE VIOLATION        6\n",
       "5                 CRIM SEXUAL ASSAULT      450\n",
       "6                     CRIMINAL DAMAGE    14158\n",
       "7             CRIMINAL SEXUAL ASSAULT       98\n",
       "8                   CRIMINAL TRESPASS     8059\n",
       "9                  DECEPTIVE PRACTICE     1488\n",
       "10                           GAMBLING      232\n",
       "11                           HOMICIDE       17\n",
       "12                  HUMAN TRAFFICKING        1\n",
       "13   INTERFERENCE WITH PUBLIC OFFICER      110\n",
       "14                       INTIMIDATION      254\n",
       "15                         KIDNAPPING      219\n",
       "16               LIQUOR LAW VIOLATION      422\n",
       "17                MOTOR VEHICLE THEFT      671\n",
       "18                          NARCOTICS    12452\n",
       "19                          OBSCENITY       97\n",
       "20         OFFENSE INVOLVING CHILDREN     1621\n",
       "21           OTHER NARCOTIC VIOLATION       18\n",
       "22                      OTHER OFFENSE     4837\n",
       "23                       PROSTITUTION       15\n",
       "24                   PUBLIC INDECENCY        8\n",
       "25             PUBLIC PEACE VIOLATION     5637\n",
       "26                          RITUALISM        3\n",
       "27                            ROBBERY     1754\n",
       "28                        SEX OFFENSE     1920\n",
       "29                           STALKING      114\n",
       "30                              THEFT    35985\n",
       "31                  WEAPONS VIOLATION     5570"
      ]
     },
     "execution_count": 34,
     "metadata": {},
     "output_type": "execute_result"
    }
   ],
   "source": [
    "df = pd.read_sql_query(\"select PrimaryType as 'Crime', count(*) as 'Numbers' from Crimes where LocationDescription like '%school%' group by PrimaryType;\", conn)\n",
    "df"
   ]
  },
  {
   "cell_type": "markdown",
   "id": "a4cbe444-d22c-4f9e-9d09-8f2842760b12",
   "metadata": {},
   "source": [
    "### Question 6: List the average safety score for all types of schools."
   ]
  },
  {
   "cell_type": "code",
   "execution_count": 41,
   "id": "255e68e0-864b-4997-b170-a36a76c1f1ec",
   "metadata": {},
   "outputs": [
    {
     "data": {
      "text/html": [
       "<div>\n",
       "<style scoped>\n",
       "    .dataframe tbody tr th:only-of-type {\n",
       "        vertical-align: middle;\n",
       "    }\n",
       "\n",
       "    .dataframe tbody tr th {\n",
       "        vertical-align: top;\n",
       "    }\n",
       "\n",
       "    .dataframe thead th {\n",
       "        text-align: right;\n",
       "    }\n",
       "</style>\n",
       "<table border=\"1\" class=\"dataframe\">\n",
       "  <thead>\n",
       "    <tr style=\"text-align: right;\">\n",
       "      <th></th>\n",
       "      <th>Types of schools</th>\n",
       "      <th>avg Safety Score</th>\n",
       "    </tr>\n",
       "  </thead>\n",
       "  <tbody>\n",
       "    <tr>\n",
       "      <th>0</th>\n",
       "      <td>ES</td>\n",
       "      <td>49.520384</td>\n",
       "    </tr>\n",
       "    <tr>\n",
       "      <th>1</th>\n",
       "      <td>HS</td>\n",
       "      <td>49.623529</td>\n",
       "    </tr>\n",
       "    <tr>\n",
       "      <th>2</th>\n",
       "      <td>MS</td>\n",
       "      <td>48.000000</td>\n",
       "    </tr>\n",
       "  </tbody>\n",
       "</table>\n",
       "</div>"
      ],
      "text/plain": [
       "  Types of schools  avg Safety Score\n",
       "0               ES         49.520384\n",
       "1               HS         49.623529\n",
       "2               MS         48.000000"
      ]
     },
     "execution_count": 41,
     "metadata": {},
     "output_type": "execute_result"
    }
   ],
   "source": [
    "df = pd.read_sql_query(\"select ElementaryMiddleorHighSchool as 'Types of schools', AVG(SafetyScore) as 'avg Safety Score' from Chicago_Public_Schools group by ElementaryMiddleorHighSchool;\", conn)\n",
    "df"
   ]
  },
  {
   "cell_type": "markdown",
   "id": "dc713605-6293-43ab-a349-3cd8a5ad755b",
   "metadata": {},
   "source": [
    "### Question 7: List 5 community areas with highest % of households below poverty line."
   ]
  },
  {
   "cell_type": "code",
   "execution_count": 44,
   "id": "16d111c6-8ba2-437c-8677-66f4c612d9dd",
   "metadata": {},
   "outputs": [
    {
     "data": {
      "text/html": [
       "<div>\n",
       "<style scoped>\n",
       "    .dataframe tbody tr th:only-of-type {\n",
       "        vertical-align: middle;\n",
       "    }\n",
       "\n",
       "    .dataframe tbody tr th {\n",
       "        vertical-align: top;\n",
       "    }\n",
       "\n",
       "    .dataframe thead th {\n",
       "        text-align: right;\n",
       "    }\n",
       "</style>\n",
       "<table border=\"1\" class=\"dataframe\">\n",
       "  <thead>\n",
       "    <tr style=\"text-align: right;\">\n",
       "      <th></th>\n",
       "      <th>Community area</th>\n",
       "      <th>% below poverty</th>\n",
       "    </tr>\n",
       "  </thead>\n",
       "  <tbody>\n",
       "    <tr>\n",
       "      <th>0</th>\n",
       "      <td>Riverdale</td>\n",
       "      <td>56.5</td>\n",
       "    </tr>\n",
       "    <tr>\n",
       "      <th>1</th>\n",
       "      <td>Fuller Park</td>\n",
       "      <td>51.2</td>\n",
       "    </tr>\n",
       "    <tr>\n",
       "      <th>2</th>\n",
       "      <td>Englewood</td>\n",
       "      <td>46.6</td>\n",
       "    </tr>\n",
       "    <tr>\n",
       "      <th>3</th>\n",
       "      <td>North Lawndale</td>\n",
       "      <td>43.1</td>\n",
       "    </tr>\n",
       "    <tr>\n",
       "      <th>4</th>\n",
       "      <td>East Garfield Park</td>\n",
       "      <td>42.4</td>\n",
       "    </tr>\n",
       "  </tbody>\n",
       "</table>\n",
       "</div>"
      ],
      "text/plain": [
       "       Community area  % below poverty\n",
       "0           Riverdale             56.5\n",
       "1         Fuller Park             51.2\n",
       "2           Englewood             46.6\n",
       "3      North Lawndale             43.1\n",
       "4  East Garfield Park             42.4"
      ]
     },
     "execution_count": 44,
     "metadata": {},
     "output_type": "execute_result"
    }
   ],
   "source": [
    "df = pd.read_sql_query(\"select COMMUNITYAREANAME as 'Community area', PERCENTHOUSEHOLDSBELOWPOVERTY  as '% below poverty' from Census_Data order by PERCENTHOUSEHOLDSBELOWPOVERTY desc limit(5);\", conn)\n",
    "df"
   ]
  },
  {
   "cell_type": "markdown",
   "id": "6bc9ba93-f1e1-485c-8e81-e9c27bfae1de",
   "metadata": {},
   "source": [
    "### Question 8: Which community area(number) is most crime prone?"
   ]
  },
  {
   "cell_type": "code",
   "execution_count": 74,
   "id": "92114c26-ee42-407b-be9a-26fe61f11a62",
   "metadata": {},
   "outputs": [
    {
     "data": {
      "text/html": [
       "<div>\n",
       "<style scoped>\n",
       "    .dataframe tbody tr th:only-of-type {\n",
       "        vertical-align: middle;\n",
       "    }\n",
       "\n",
       "    .dataframe tbody tr th {\n",
       "        vertical-align: top;\n",
       "    }\n",
       "\n",
       "    .dataframe thead th {\n",
       "        text-align: right;\n",
       "    }\n",
       "</style>\n",
       "<table border=\"1\" class=\"dataframe\">\n",
       "  <thead>\n",
       "    <tr style=\"text-align: right;\">\n",
       "      <th></th>\n",
       "      <th>Community number</th>\n",
       "      <th>Crime_numbers</th>\n",
       "    </tr>\n",
       "  </thead>\n",
       "  <tbody>\n",
       "    <tr>\n",
       "      <th>0</th>\n",
       "      <td>25</td>\n",
       "      <td>443727</td>\n",
       "    </tr>\n",
       "  </tbody>\n",
       "</table>\n",
       "</div>"
      ],
      "text/plain": [
       "   Community number  Crime_numbers\n",
       "0                25         443727"
      ]
     },
     "execution_count": 74,
     "metadata": {},
     "output_type": "execute_result"
    }
   ],
   "source": [
    "df = pd.read_sql_query(\"SELECT CommunityArea as 'Community number', count(*) as 'Crime_numbers' FROM Crimes where CommunityArea NOT NULL group by CommunityArea order by 2 desc limit(1);\", conn)\n",
    "df"
   ]
  },
  {
   "cell_type": "markdown",
   "id": "a1ea808e-7868-48ce-8305-437eae41548b",
   "metadata": {},
   "source": [
    "### Question 9: Use a sub-query to find the name of the community area with highest hardship index."
   ]
  },
  {
   "cell_type": "code",
   "execution_count": 70,
   "id": "9ab81059-0f06-4e9f-a204-6b0ed550c0f0",
   "metadata": {},
   "outputs": [
    {
     "data": {
      "text/html": [
       "<div>\n",
       "<style scoped>\n",
       "    .dataframe tbody tr th:only-of-type {\n",
       "        vertical-align: middle;\n",
       "    }\n",
       "\n",
       "    .dataframe tbody tr th {\n",
       "        vertical-align: top;\n",
       "    }\n",
       "\n",
       "    .dataframe thead th {\n",
       "        text-align: right;\n",
       "    }\n",
       "</style>\n",
       "<table border=\"1\" class=\"dataframe\">\n",
       "  <thead>\n",
       "    <tr style=\"text-align: right;\">\n",
       "      <th></th>\n",
       "      <th>Community name</th>\n",
       "      <th>HARD SHIP INDEX</th>\n",
       "    </tr>\n",
       "  </thead>\n",
       "  <tbody>\n",
       "    <tr>\n",
       "      <th>0</th>\n",
       "      <td>Riverdale</td>\n",
       "      <td>98</td>\n",
       "    </tr>\n",
       "  </tbody>\n",
       "</table>\n",
       "</div>"
      ],
      "text/plain": [
       "  Community name  HARD SHIP INDEX\n",
       "0      Riverdale               98"
      ]
     },
     "execution_count": 70,
     "metadata": {},
     "output_type": "execute_result"
    }
   ],
   "source": [
    "df = pd.read_sql_query(\"SELECT COMMUNITYAREANAME as 'Community name' , HARDSHIPINDEX as 'HARD SHIP INDEX' FROM Census_Data where HARDSHIPINDEX = (select max(HARDSHIPINDEX) FROM Census_Data);\", conn)\n",
    "df"
   ]
  },
  {
   "cell_type": "markdown",
   "id": "7c10e047-f0fb-4f4a-8408-b9804f22c8dc",
   "metadata": {},
   "source": [
    "### Question 10: Use a sub-query to determine the Community Area Name with most number of crimes?"
   ]
  },
  {
   "cell_type": "code",
   "execution_count": 77,
   "id": "1323d214-b346-42d7-a125-f58c0b174c58",
   "metadata": {},
   "outputs": [
    {
     "data": {
      "text/html": [
       "<div>\n",
       "<style scoped>\n",
       "    .dataframe tbody tr th:only-of-type {\n",
       "        vertical-align: middle;\n",
       "    }\n",
       "\n",
       "    .dataframe tbody tr th {\n",
       "        vertical-align: top;\n",
       "    }\n",
       "\n",
       "    .dataframe thead th {\n",
       "        text-align: right;\n",
       "    }\n",
       "</style>\n",
       "<table border=\"1\" class=\"dataframe\">\n",
       "  <thead>\n",
       "    <tr style=\"text-align: right;\">\n",
       "      <th></th>\n",
       "      <th>Community name</th>\n",
       "      <th>Community number</th>\n",
       "      <th>max(Number_crime)</th>\n",
       "    </tr>\n",
       "  </thead>\n",
       "  <tbody>\n",
       "    <tr>\n",
       "      <th>0</th>\n",
       "      <td>Austin</td>\n",
       "      <td>25</td>\n",
       "      <td>443727</td>\n",
       "    </tr>\n",
       "  </tbody>\n",
       "</table>\n",
       "</div>"
      ],
      "text/plain": [
       "  Community name  Community number  max(Number_crime)\n",
       "0         Austin                25             443727"
      ]
     },
     "execution_count": 77,
     "metadata": {},
     "output_type": "execute_result"
    }
   ],
   "source": [
    "df = pd.read_sql_query(\"SELECT COMMUNITYAREANAME as 'Community name', CommunityArea as 'Community number', max(Number_crime) FROM\" \n",
    "                       \"(select COMMUNITYAREANAME, CommunityArea, count(*) as Number_crime FROM Crimes, Census_Data where Crimes.CommunityArea NOT NULL AND Census_Data.CommunityAreaNumber = Crimes.CommunityArea group by CommunityArea);\", conn)\n",
    "df"
   ]
  },
  {
   "cell_type": "code",
   "execution_count": null,
   "id": "a870cfdc-d312-48dd-904a-5d9c8e79d034",
   "metadata": {},
   "outputs": [],
   "source": []
  }
 ],
 "metadata": {
  "kernelspec": {
   "display_name": "Python 3 (ipykernel)",
   "language": "python",
   "name": "python3"
  },
  "language_info": {
   "codemirror_mode": {
    "name": "ipython",
    "version": 3
   },
   "file_extension": ".py",
   "mimetype": "text/x-python",
   "name": "python",
   "nbconvert_exporter": "python",
   "pygments_lexer": "ipython3",
   "version": "3.9.7"
  }
 },
 "nbformat": 4,
 "nbformat_minor": 5
}
